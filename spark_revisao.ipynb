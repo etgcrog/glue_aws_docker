{
  "nbformat": 4,
  "nbformat_minor": 0,
  "metadata": {
    "colab": {
      "provenance": [],
      "mount_file_id": "1zRX5YGz6ZE4gnCV8lXB5sZr2N28Gm5fY",
      "authorship_tag": "ABX9TyPkHb5bbIPJPGOtc7XceJlf",
      "include_colab_link": true
    },
    "kernelspec": {
      "name": "python3",
      "display_name": "Python 3"
    },
    "language_info": {
      "name": "python"
    }
  },
  "cells": [
    {
      "cell_type": "markdown",
      "metadata": {
        "id": "view-in-github",
        "colab_type": "text"
      },
      "source": [
        "<a href=\"https://colab.research.google.com/github/etgcrog/glue_aws_docker/blob/main/spark_revisao.ipynb\" target=\"_parent\"><img src=\"https://colab.research.google.com/assets/colab-badge.svg\" alt=\"Open In Colab\"/></a>"
      ]
    },
    {
      "cell_type": "code",
      "execution_count": 22,
      "metadata": {
        "id": "UhL-FL6q-dma"
      },
      "outputs": [],
      "source": [
        "!apt-get update -qq\n",
        "!apt-get install openjdk-8-jdk-headless -qq > /dev/null\n",
        "!wget -q https://archive.apache.org/dist/spark/spark-3.1.2/spark-3.1.2-bin-hadoop2.7.tgz\n",
        "!tar xf spark-3.1.2-bin-hadoop2.7.tgz\n",
        "!pip install -q findspark"
      ]
    },
    {
      "cell_type": "code",
      "source": [
        "import os\n",
        "os.environ[\"JAVA_HOME\"] = \"/usr/lib/jvm/java-8-openjdk-amd64\"\n",
        "os.environ[\"SPARK_HOME\"] = \"/content/spark-3.1.2-bin-hadoop2.7\""
      ],
      "metadata": {
        "id": "qi-MB6jw_88h"
      },
      "execution_count": 23,
      "outputs": []
    },
    {
      "cell_type": "code",
      "source": [
        "import findspark\n",
        "findspark.init()"
      ],
      "metadata": {
        "id": "ZvaLVGDGARfU"
      },
      "execution_count": 24,
      "outputs": []
    },
    {
      "cell_type": "code",
      "source": [
        "from pyspark.sql import SparkSession\n",
        "from pyspark.sql.types import DoubleType, StringType\n",
        "from pyspark.sql import functions as f\n",
        "\n",
        "spark = SparkSession.builder \\\n",
        "    .master('local[*]') \\\n",
        "    .appName(\"Iniciando com Spark\") \\\n",
        "    .config('spark.ui.port', '4050') \\\n",
        "    .getOrCreate()"
      ],
      "metadata": {
        "id": "ON0oCnrhZSBX"
      },
      "execution_count": 98,
      "outputs": []
    },
    {
      "cell_type": "code",
      "source": [
        "data = [('Zeca','35'), ('Eva', '29')]\n",
        "colNames = ['Nome', 'Idade']"
      ],
      "metadata": {
        "id": "xCGtAYcCdl_7"
      },
      "execution_count": 26,
      "outputs": []
    },
    {
      "cell_type": "code",
      "source": [
        "df = spark.createDataFrame(data, colNames)"
      ],
      "metadata": {
        "id": "uRYqDrgTfubN"
      },
      "execution_count": 27,
      "outputs": []
    },
    {
      "cell_type": "code",
      "source": [
        "df.show()"
      ],
      "metadata": {
        "colab": {
          "base_uri": "https://localhost:8080/"
        },
        "id": "zID0qJvlfy6S",
        "outputId": "1281e2f3-8f05-45fa-f878-531e634ab906"
      },
      "execution_count": 28,
      "outputs": [
        {
          "output_type": "stream",
          "name": "stdout",
          "text": [
            "+----+-----+\n",
            "|Nome|Idade|\n",
            "+----+-----+\n",
            "|Zeca|   35|\n",
            "| Eva|   29|\n",
            "+----+-----+\n",
            "\n"
          ]
        }
      ]
    },
    {
      "cell_type": "code",
      "source": [
        "df.filter(df.Idade == \"35\").show(truncate=False)"
      ],
      "metadata": {
        "id": "XL9fQjCIDjdg",
        "outputId": "c8ffc036-d00c-4ac0-afc6-5217b64fba85",
        "colab": {
          "base_uri": "https://localhost:8080/"
        }
      },
      "execution_count": 29,
      "outputs": [
        {
          "output_type": "stream",
          "name": "stdout",
          "text": [
            "+----+-----+\n",
            "|Nome|Idade|\n",
            "+----+-----+\n",
            "|Zeca|35   |\n",
            "+----+-----+\n",
            "\n"
          ]
        }
      ]
    },
    {
      "cell_type": "code",
      "source": [
        "from zipfile import ZipFile\n",
        "\n",
        "prefix_zip = \"/content/drive/MyDrive/Colab Notebooks/data\"\n",
        "prefix_unzip = \"/content/data\"\n",
        "\n",
        "names_archives = ['empresas','estabelecimentos','socios']\n",
        "\n",
        "for archive in names_archives:\n",
        "  with ZipFile(f\"{prefix_zip}/{archive}.zip\", 'r') as zip_ref:\n",
        "    zip_ref.extractall(f\"{prefix_unzip}\")\n"
      ],
      "metadata": {
        "id": "4O8CaIxff4oz"
      },
      "execution_count": 49,
      "outputs": []
    },
    {
      "cell_type": "code",
      "source": [
        "def read_parquet(directory):\n",
        "  return spark.read.options(delimiter=\";\", inferSchema='True').csv(directory)\n",
        "\n",
        "def sub_comman_dot(df, col_name):\n",
        "  return df.withColumn(col_name, f.regexp_replace(col_name, \",\", \".\").cast(DoubleType()))\n",
        "\n",
        "def rename_column(df, list_names):\n",
        "  for index, colName in enumerate(list_names):\n",
        "    df = df.withColumnRenamed(f\"_c{index}\", colName)\n",
        "  return df\n",
        "\n",
        "def sub_string_date(df, column_name, pattern):\n",
        "  return df.withColumn(column_name, f.to_date(df[column_name].cast(StringType()), pattern))"
      ],
      "metadata": {
        "id": "yulL5cROjaDA"
      },
      "execution_count": 139,
      "outputs": []
    },
    {
      "cell_type": "code",
      "source": [
        "df_empresas = read_parquet(f\"{prefix_unzip}/empresas\")\n",
        "df_estabelecimentos = read_parquet(f\"{prefix_unzip}/estabelecimentos\")\n",
        "df_socios = read_parquet(f\"{prefix_unzip}/socios\")"
      ],
      "metadata": {
        "id": "Lt5B-kDBkF09"
      },
      "execution_count": 143,
      "outputs": []
    },
    {
      "cell_type": "code",
      "source": [
        "#Lista para renomear\n",
        "empresasColNames = ['cnpj_basico', 'razao_social_nome_empresarial', 'natureza_juridica', 'qualificacao_do_responsavel', 'capital_social_da_empresa', 'porte_da_empresa', 'ente_federativo_responsavel']\n",
        "estabsColNames = ['cnpj_basico', 'cnpj_ordem', 'cnpj_dv', 'identificador_matriz_filial', 'nome_fantasia', 'situacao_cadastral', 'data_situacao_cadastral', 'motivo_situacao_cadastral', 'nome_da_cidade_no_exterior', 'pais', 'data_de_inicio_atividade', 'cnae_fiscal_principal', 'cnae_fiscal_secundaria', 'tipo_de_logradouro', 'logradouro', 'numero', 'complemento', 'bairro', 'cep', 'uf', 'municipio', 'ddd_1', 'telefone_1', 'ddd_2', 'telefone_2', 'ddd_do_fax', 'fax', 'correio_eletronico', 'situacao_especial', 'data_da_situacao_especial']\n",
        "sociosColNames = ['cnpj_basico', 'identificador_de_socio', 'nome_do_socio_ou_razao_social', 'cnpj_ou_cpf_do_socio', 'qualificacao_do_socio', 'data_de_entrada_sociedade', 'pais', 'representante_legal', 'nome_do_representante', 'qualificacao_do_representante_legal', 'faixa_etaria']\n",
        "\n",
        "df_empresas = rename_column(df_empresas, empresasColNames)\n",
        "df_estabelecimentos = rename_column(df_estabelecimentos, estabsColNames)\n",
        "df_socios = rename_column(df_socios, sociosColNames)\n"
      ],
      "metadata": {
        "id": "Fk4ajPw7tcLo"
      },
      "execution_count": 146,
      "outputs": []
    },
    {
      "cell_type": "code",
      "source": [
        "df_estabelecimentos.show()"
      ],
      "metadata": {
        "colab": {
          "base_uri": "https://localhost:8080/"
        },
        "id": "OCbgTd6MnQNL",
        "outputId": "c9c26c6a-d0a5-4922-f3fe-d1db1c8b9eb3"
      },
      "execution_count": 147,
      "outputs": [
        {
          "output_type": "stream",
          "name": "stdout",
          "text": [
            "+-----------+----------+-------+---------------------------+--------------------+------------------+-----------------------+-------------------------+--------------------------+----+------------------------+---------------------+----------------------+------------------+--------------------+------+-------------------+------------------+--------+---+---------+-----+----------+-----+----------+----------+--------+--------------------+-----------------+-------------------------+\n",
            "|cnpj_basico|cnpj_ordem|cnpj_dv|identificador_matriz_filial|       nome_fantasia|situacao_cadastral|data_situacao_cadastral|motivo_situacao_cadastral|nome_da_cidade_no_exterior|pais|data_de_inicio_atividade|cnae_fiscal_principal|cnae_fiscal_secundaria|tipo_de_logradouro|          logradouro|numero|        complemento|            bairro|     cep| uf|municipio|ddd_1|telefone_1|ddd_2|telefone_2|ddd_do_fax|     fax|  correio_eletronico|situacao_especial|data_da_situacao_especial|\n",
            "+-----------+----------+-------+---------------------------+--------------------+------------------+-----------------------+-------------------------+--------------------------+----+------------------------+---------------------+----------------------+------------------+--------------------+------+-------------------+------------------+--------+---+---------+-----+----------+-----+----------+----------+--------+--------------------+-----------------+-------------------------+\n",
            "|       1879|         1|     96|                          1|      PIRAMIDE M. C.|                 8|               20011029|                        1|                      null|null|                19940509|              1412602|                  null|               RUA|     JOSE FIGLIOLINI|   608|               null|         VILA NILO| 2278020| SP|     7107| null|      null| null|      null|      null|    null|                null|             null|                     null|\n",
            "|       2818|         1|     43|                          1|                null|                 8|               20081231|                       71|                      null|null|                19940512|              4671100|                  null|               RUA|              BAQUIA|   416|               null|VL NOVA MANCHESTER| 3443000| SP|     7107| null|      null| null|      null|      null|    null|                null|             null|                     null|\n",
            "|       3110|         1|      7|                          1|                null|                 8|               19971231|                        1|                      null|null|                19940512|              4789007|                  null|               RUA|     LEOCADIA CINTRA|   180|            CONJ 83|             MOOCA| 3112040| SP|     7107| null|      null| null|      null|      null|    null|                null|             null|                     null|\n",
            "|       3733|         1|     80|                          1|                null|                 8|               20081231|                       71|                      null|null|                19940513|              7490101|                  null|               RUA|        AFONSO CELSO|  1102|             CASA 1|      VILA MARIANA| 4119061| SP|     7107| null|      null| null|      null|      null|    null|                null|             null|                     null|\n",
            "|       4628|         3|     27|                          2|   EMBROIDERY & GIFT|                 8|               19980429|                        1|                      null|null|                19950509|              4755501|                  null|               RUA|DOUTOR GABRIEL NI...|   177|               null|       RUDGE RAMOS| 9632040| SP|     7075| null|      null| null|      null|      null|    null|                null|             null|                     null|\n",
            "|       4628|         4|      8|                          2|                null|                 8|               20040719|                        1|                      null|null|                19990715|              4755502|                  null|           AVENIDA|   SENADOR VERGUEIRO|  4556|               null|       RUDGE RAMOS| 9750900| SP|     7075| null|      null| null|      null|      null|    null|                null|             null|                     null|\n",
            "|       4628|         2|     46|                          2|   EMBROIDERY & GIFT|                 8|               19960802|                        1|                      null|null|                19950406|              4755501|                  null|           AVENIDA|             KENNEDY|   700|P2PULMANN QUIO P67L|    JD TRES MARIAS| 9725000| SP|     7075| null|      null| null|      null|      null|    null|                null|             null|                     null|\n",
            "|       4628|         1|     65|                          1|                null|                 2|               20051103|                        0|                      null|null|                19940516|              4930202|  7739099,4930201,5...|               RUA|  TIETE (VL VIVALDI)|   189|               null|       RUDGE RAMOS| 9615000| SP|     7075|   11|  43625402|   11|  43622689|        11|43625402|SHIRLEY_LUPOS@HOT...|             null|                     null|\n",
            "|      10804|         1|     71|                          1|              KOLVOX|                 8|               20170613|                        1|                      null|null|                19940530|              1412601|               1412603|           AVENIDA|          NORDESTINA|   917|           SALA  02|    VILA AMERICANA| 8021000| SP|     7107|   11|  20580186| null|      null|      null|    null|NCCONTABILIDADE@T...|             null|                     null|\n",
            "|      11448|         1|      0|                          1|              PROLAV|                 8|               20081231|                       71|                      null|null|                19940530|              4649408|                  null|               RUA|          PITAGUARAS|    05|               null|           POMPEIA| 5027100| SP|     7107| null|      null| null|      null|      null|    null|                null|             null|                     null|\n",
            "|      13566|         1|     58|                          1|                null|                 8|               20000914|                        1|                      null|null|                19940607|              4120400|               4299501|               RUA|       CAETANO NIGRO|   480|               null|       VL HARMONIA|14802450| SP|     6163| null|      null| null|      null|      null|    null|                null|             null|                     null|\n",
            "|      15324|         1|      1|                          1|MINI SACOLAO VILA...|                 8|               20080214|                       54|                      null|null|                19940610|              4729699|                  null|               RUA|      JAN DE CAPELLI|   238|                240|        PQ BRISTOL| 4193070| SP|     7107| null|      null| null|      null|      null|    null|                null|             null|                     null|\n",
            "|      17853|         1|     36|                          1|J Z B COMERCIO DE...|                 8|               20071003|                       54|                      null|null|                19940615|              2051700|               2052500|           ESTRADA|MUNIC.ALTAIR A GU...|    SN|              KM 04|        ZONA RURAL|15430000| SP|     6117| null|      null| null|      null|      null|    null|                null|             null|                     null|\n",
            "|      18103|         1|     89|                          1|                null|                 8|               20081231|                       71|                      null|null|                19940616|              4723700|                  null|           AVENIDA|    FREDERICO OZANAN|   946|               null|      VILA SAMPAIO|17205000| SP|     6607| null|      null| null|      null|      null|    null|                null|             null|                     null|\n",
            "|      22504|         1|      2|                          1|                null|                 8|               20151119|                        1|                      null|null|                19940627|              4761003|  4761001,4761002,4...|               RUA|          SANTA CRUZ|   595|               null|            CENTRO|13560680| SP|     7079|  016|   2706821| null|      null|        16| 2706821|                null|             null|                     null|\n",
            "|      23494|         1|     20|                          1|                LEGO|                 8|               20150209|                       73|                      null|null|                19940629|              1412601|               1412603|               RUA|  CEL EMIDIO PIEDADE|   154|               null|              PARI| 3018010| SP|     7107| null|      null| null|      null|      null|    null|                null|             null|                     null|\n",
            "|      23494|         2|      0|                          2|                null|                 8|               20150209|                       73|                      null|null|                20041201|              4642701|                  null|             PRACA|       JULIO PRESTES|29/137|           LOJA P19|    CAMPOS ELISEOS| 1218020| SP|     7107| null|      null| null|      null|      null|    null|                null|             null|                     null|\n",
            "|      24117|         1|      5|                          1|                null|                 8|               19850705|                        2|                      null|null|                19680725|              8888888|                  null|           AVENIDA|   ALMIRANTE BARROSO|    63|     SALA 308 PARTE|            CENTRO|20031003| RJ|     6001| null|      null| null|      null|      null|    null|                null|             null|                     null|\n",
            "|      24242|         1|     15|                          1|                null|                 8|               20081231|                       71|                      null|null|                19940630|              4722901|                  null|           AVENIDA|        BANDEIRANTES|  3928|               null| BRIGADEIRO TOBIAS|18108000| SP|     7145| null|      null| null|      null|      null|    null|                null|             null|                     null|\n",
            "|      24323|         1|     15|                          1|          POSTO XARA|                 8|               20081231|                       71|                      null|null|                19820114|              4731800|               4732600|           RODOVIA|              BR 050|   S/N|             KM 214|        ZONA RURAL|75795000| GO|     9295| null|      null| null|      null|      null|    null|                null|             null|                     null|\n",
            "+-----------+----------+-------+---------------------------+--------------------+------------------+-----------------------+-------------------------+--------------------------+----+------------------------+---------------------+----------------------+------------------+--------------------+------+-------------------+------------------+--------+---+---------+-----+----------+-----+----------+----------+--------+--------------------+-----------------+-------------------------+\n",
            "only showing top 20 rows\n",
            "\n"
          ]
        }
      ]
    },
    {
      "cell_type": "code",
      "source": [
        "# TRATAMENTO DE DADOS\n",
        "df_empresas = sub_comman_dot(df_empresas, \"capital_social_da_empresa\")\n",
        "df_estabelecimentos = sub_string_date(df_empresas, \"data\", \"yyyyMMdd\")\n",
        "# df_estabelecimentos = rename_column()\n",
        "# df_socios = rename_column()"
      ],
      "metadata": {
        "colab": {
          "base_uri": "https://localhost:8080/",
          "height": 415
        },
        "id": "IwzfGqgrn0A_",
        "outputId": "88f57a2f-cad7-43e4-fafe-bef468f9ae38"
      },
      "execution_count": 122,
      "outputs": [
        {
          "output_type": "error",
          "ename": "AnalysisException",
          "evalue": "ignored",
          "traceback": [
            "\u001b[0;31m---------------------------------------------------------------------------\u001b[0m",
            "\u001b[0;31mAnalysisException\u001b[0m                         Traceback (most recent call last)",
            "\u001b[0;32m<ipython-input-122-be75d2f9384a>\u001b[0m in \u001b[0;36m<module>\u001b[0;34m\u001b[0m\n\u001b[1;32m      1\u001b[0m \u001b[0;31m# TRATAMENTO DE DADOS\u001b[0m\u001b[0;34m\u001b[0m\u001b[0;34m\u001b[0m\u001b[0;34m\u001b[0m\u001b[0m\n\u001b[1;32m      2\u001b[0m \u001b[0mdf_empresas\u001b[0m \u001b[0;34m=\u001b[0m \u001b[0msub_comman_dot\u001b[0m\u001b[0;34m(\u001b[0m\u001b[0mdf_empresas\u001b[0m\u001b[0;34m,\u001b[0m \u001b[0;34m\"capital_social_da_empresa\"\u001b[0m\u001b[0;34m)\u001b[0m\u001b[0;34m\u001b[0m\u001b[0;34m\u001b[0m\u001b[0m\n\u001b[0;32m----> 3\u001b[0;31m \u001b[0mdf_estabelecimentos\u001b[0m \u001b[0;34m=\u001b[0m \u001b[0msub_string_date\u001b[0m\u001b[0;34m(\u001b[0m\u001b[0mdf_empresas\u001b[0m\u001b[0;34m,\u001b[0m \u001b[0;34m\"data\"\u001b[0m\u001b[0;34m,\u001b[0m \u001b[0;34m\"yyyyMMdd\"\u001b[0m\u001b[0;34m)\u001b[0m\u001b[0;34m\u001b[0m\u001b[0;34m\u001b[0m\u001b[0m\n\u001b[0m\u001b[1;32m      4\u001b[0m \u001b[0;31m# df_estabelecimentos = rename_column()\u001b[0m\u001b[0;34m\u001b[0m\u001b[0;34m\u001b[0m\u001b[0;34m\u001b[0m\u001b[0m\n\u001b[1;32m      5\u001b[0m \u001b[0;31m# df_socios = rename_column()\u001b[0m\u001b[0;34m\u001b[0m\u001b[0;34m\u001b[0m\u001b[0;34m\u001b[0m\u001b[0m\n",
            "\u001b[0;32m<ipython-input-113-93a04e874c7e>\u001b[0m in \u001b[0;36msub_string_date\u001b[0;34m(df, column_name, pattern)\u001b[0m\n\u001b[1;32m     10\u001b[0m \u001b[0;34m\u001b[0m\u001b[0m\n\u001b[1;32m     11\u001b[0m \u001b[0;32mdef\u001b[0m \u001b[0msub_string_date\u001b[0m\u001b[0;34m(\u001b[0m\u001b[0mdf\u001b[0m\u001b[0;34m,\u001b[0m \u001b[0mcolumn_name\u001b[0m\u001b[0;34m,\u001b[0m \u001b[0mpattern\u001b[0m\u001b[0;34m)\u001b[0m\u001b[0;34m:\u001b[0m\u001b[0;34m\u001b[0m\u001b[0;34m\u001b[0m\u001b[0m\n\u001b[0;32m---> 12\u001b[0;31m   \u001b[0;32mreturn\u001b[0m \u001b[0mdf\u001b[0m\u001b[0;34m.\u001b[0m\u001b[0mwithColumn\u001b[0m\u001b[0;34m(\u001b[0m\u001b[0mcolumn_name\u001b[0m\u001b[0;34m,\u001b[0m \u001b[0mf\u001b[0m\u001b[0;34m.\u001b[0m\u001b[0mto_date\u001b[0m\u001b[0;34m(\u001b[0m\u001b[0mdf\u001b[0m\u001b[0;34m[\u001b[0m\u001b[0mcolumn_name\u001b[0m\u001b[0;34m]\u001b[0m\u001b[0;34m.\u001b[0m\u001b[0mcast\u001b[0m\u001b[0;34m(\u001b[0m\u001b[0mStringType\u001b[0m\u001b[0;34m(\u001b[0m\u001b[0;34m)\u001b[0m\u001b[0;34m)\u001b[0m\u001b[0;34m,\u001b[0m \u001b[0mpattern\u001b[0m\u001b[0;34m)\u001b[0m\u001b[0;34m)\u001b[0m\u001b[0;34m\u001b[0m\u001b[0;34m\u001b[0m\u001b[0m\n\u001b[0m",
            "\u001b[0;32m/content/spark-3.1.2-bin-hadoop2.7/python/pyspark/sql/dataframe.py\u001b[0m in \u001b[0;36m__getitem__\u001b[0;34m(self, item)\u001b[0m\n\u001b[1;32m   1618\u001b[0m         \"\"\"\n\u001b[1;32m   1619\u001b[0m         \u001b[0;32mif\u001b[0m \u001b[0misinstance\u001b[0m\u001b[0;34m(\u001b[0m\u001b[0mitem\u001b[0m\u001b[0;34m,\u001b[0m \u001b[0mstr\u001b[0m\u001b[0;34m)\u001b[0m\u001b[0;34m:\u001b[0m\u001b[0;34m\u001b[0m\u001b[0;34m\u001b[0m\u001b[0m\n\u001b[0;32m-> 1620\u001b[0;31m             \u001b[0mjc\u001b[0m \u001b[0;34m=\u001b[0m \u001b[0mself\u001b[0m\u001b[0;34m.\u001b[0m\u001b[0m_jdf\u001b[0m\u001b[0;34m.\u001b[0m\u001b[0mapply\u001b[0m\u001b[0;34m(\u001b[0m\u001b[0mitem\u001b[0m\u001b[0;34m)\u001b[0m\u001b[0;34m\u001b[0m\u001b[0;34m\u001b[0m\u001b[0m\n\u001b[0m\u001b[1;32m   1621\u001b[0m             \u001b[0;32mreturn\u001b[0m \u001b[0mColumn\u001b[0m\u001b[0;34m(\u001b[0m\u001b[0mjc\u001b[0m\u001b[0;34m)\u001b[0m\u001b[0;34m\u001b[0m\u001b[0;34m\u001b[0m\u001b[0m\n\u001b[1;32m   1622\u001b[0m         \u001b[0;32melif\u001b[0m \u001b[0misinstance\u001b[0m\u001b[0;34m(\u001b[0m\u001b[0mitem\u001b[0m\u001b[0;34m,\u001b[0m \u001b[0mColumn\u001b[0m\u001b[0;34m)\u001b[0m\u001b[0;34m:\u001b[0m\u001b[0;34m\u001b[0m\u001b[0;34m\u001b[0m\u001b[0m\n",
            "\u001b[0;32m/content/spark-3.1.2-bin-hadoop2.7/python/lib/py4j-0.10.9-src.zip/py4j/java_gateway.py\u001b[0m in \u001b[0;36m__call__\u001b[0;34m(self, *args)\u001b[0m\n\u001b[1;32m   1303\u001b[0m         \u001b[0manswer\u001b[0m \u001b[0;34m=\u001b[0m \u001b[0mself\u001b[0m\u001b[0;34m.\u001b[0m\u001b[0mgateway_client\u001b[0m\u001b[0;34m.\u001b[0m\u001b[0msend_command\u001b[0m\u001b[0;34m(\u001b[0m\u001b[0mcommand\u001b[0m\u001b[0;34m)\u001b[0m\u001b[0;34m\u001b[0m\u001b[0;34m\u001b[0m\u001b[0m\n\u001b[1;32m   1304\u001b[0m         return_value = get_return_value(\n\u001b[0;32m-> 1305\u001b[0;31m             answer, self.gateway_client, self.target_id, self.name)\n\u001b[0m\u001b[1;32m   1306\u001b[0m \u001b[0;34m\u001b[0m\u001b[0m\n\u001b[1;32m   1307\u001b[0m         \u001b[0;32mfor\u001b[0m \u001b[0mtemp_arg\u001b[0m \u001b[0;32min\u001b[0m \u001b[0mtemp_args\u001b[0m\u001b[0;34m:\u001b[0m\u001b[0;34m\u001b[0m\u001b[0;34m\u001b[0m\u001b[0m\n",
            "\u001b[0;32m/content/spark-3.1.2-bin-hadoop2.7/python/pyspark/sql/utils.py\u001b[0m in \u001b[0;36mdeco\u001b[0;34m(*a, **kw)\u001b[0m\n\u001b[1;32m    115\u001b[0m                 \u001b[0;31m# Hide where the exception came from that shows a non-Pythonic\u001b[0m\u001b[0;34m\u001b[0m\u001b[0;34m\u001b[0m\u001b[0;34m\u001b[0m\u001b[0m\n\u001b[1;32m    116\u001b[0m                 \u001b[0;31m# JVM exception message.\u001b[0m\u001b[0;34m\u001b[0m\u001b[0;34m\u001b[0m\u001b[0;34m\u001b[0m\u001b[0m\n\u001b[0;32m--> 117\u001b[0;31m                 \u001b[0;32mraise\u001b[0m \u001b[0mconverted\u001b[0m \u001b[0;32mfrom\u001b[0m \u001b[0;32mNone\u001b[0m\u001b[0;34m\u001b[0m\u001b[0;34m\u001b[0m\u001b[0m\n\u001b[0m\u001b[1;32m    118\u001b[0m             \u001b[0;32melse\u001b[0m\u001b[0;34m:\u001b[0m\u001b[0;34m\u001b[0m\u001b[0;34m\u001b[0m\u001b[0m\n\u001b[1;32m    119\u001b[0m                 \u001b[0;32mraise\u001b[0m\u001b[0;34m\u001b[0m\u001b[0;34m\u001b[0m\u001b[0m\n",
            "\u001b[0;31mAnalysisException\u001b[0m: Cannot resolve column name \"data\" among (cnpj_basico, razao_social_nome_empresarial, natureza_juridica, qualificacao_do_responsavel, capital_social_da_empresa, porte_da_empresa, ente_federativo_responsavel)"
          ]
        }
      ]
    },
    {
      "cell_type": "code",
      "source": [
        "df_empresas.printSchema()"
      ],
      "metadata": {
        "colab": {
          "base_uri": "https://localhost:8080/"
        },
        "id": "_kkiYuguou7G",
        "outputId": "2a9b1874-a194-4615-d09d-a53b2654210c"
      },
      "execution_count": 111,
      "outputs": [
        {
          "output_type": "stream",
          "name": "stdout",
          "text": [
            "root\n",
            " |-- cnpj_basico: integer (nullable = true)\n",
            " |-- razao_social_nome_empresarial: string (nullable = true)\n",
            " |-- natureza_juridica: integer (nullable = true)\n",
            " |-- qualificacao_do_responsavel: integer (nullable = true)\n",
            " |-- capital_social_da_empresa: double (nullable = true)\n",
            " |-- porte_da_empresa: integer (nullable = true)\n",
            " |-- ente_federativo_responsavel: string (nullable = true)\n",
            "\n"
          ]
        }
      ]
    }
  ]
}